{
 "cells": [
  {
   "cell_type": "code",
   "execution_count": 1,
   "id": "eed92b1e-da13-475b-8874-8e2732ffdf5e",
   "metadata": {},
   "outputs": [],
   "source": [
    "import numpy as np"
   ]
  },
  {
   "cell_type": "code",
   "execution_count": 4,
   "id": "e9e0a3eb-83c8-4920-9c1c-acf1fe7217c8",
   "metadata": {},
   "outputs": [
    {
     "data": {
      "text/plain": [
       "array([18, 47, 24, 16, 49, 41,  2,  7, 22,  9, 48, 41, 35, 29,  7, 15, 20,\n",
       "       48, 12, 36], dtype=int32)"
      ]
     },
     "execution_count": 4,
     "metadata": {},
     "output_type": "execute_result"
    }
   ],
   "source": [
    "#2. Write code to replace the odd numbers by -1 in the array created by using\n",
    "# random.randint( 1 , 50,20)\n",
    "array = np.random.randint(1,50,20)\n",
    "array"
   ]
  },
  {
   "cell_type": "code",
   "execution_count": 5,
   "id": "b82ad23f-103b-4cbf-b9be-fc27ecf34b9a",
   "metadata": {},
   "outputs": [
    {
     "data": {
      "text/plain": [
       "array([18, -1, 24, 16, -1, -1,  2, -1, 22, -1, 48, -1, -1, -1, -1, -1, 20,\n",
       "       48, 12, 36], dtype=int32)"
      ]
     },
     "execution_count": 5,
     "metadata": {},
     "output_type": "execute_result"
    }
   ],
   "source": [
    "array[array%2==1]=-1\n",
    "array"
   ]
  },
  {
   "cell_type": "code",
   "execution_count": null,
   "id": "46c859e8-4033-4ad8-96e7-fa46ec695253",
   "metadata": {},
   "outputs": [],
   "source": []
  }
 ],
 "metadata": {
  "kernelspec": {
   "display_name": "Python 3 (ipykernel)",
   "language": "python",
   "name": "python3"
  },
  "language_info": {
   "codemirror_mode": {
    "name": "ipython",
    "version": 3
   },
   "file_extension": ".py",
   "mimetype": "text/x-python",
   "name": "python",
   "nbconvert_exporter": "python",
   "pygments_lexer": "ipython3",
   "version": "3.13.5"
  }
 },
 "nbformat": 4,
 "nbformat_minor": 5
}
