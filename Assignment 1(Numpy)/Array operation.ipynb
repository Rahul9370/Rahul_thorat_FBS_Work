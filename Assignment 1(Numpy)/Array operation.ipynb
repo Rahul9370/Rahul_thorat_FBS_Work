{
 "cells": [
  {
   "cell_type": "code",
   "execution_count": 1,
   "id": "5a3b6dac-6683-41e8-94d2-65f99e4e45ea",
   "metadata": {},
   "outputs": [],
   "source": [
    "import numpy as np"
   ]
  },
  {
   "cell_type": "code",
   "execution_count": 2,
   "id": "e704301f-87a9-49f8-aa52-58fc0f9c5a7c",
   "metadata": {},
   "outputs": [],
   "source": [
    "# 3. Perform the following operations on an array of mobile phones prices 6999, 7500,\n",
    "# 11999, 27899, 14999, 9999."
   ]
  },
  {
   "cell_type": "code",
   "execution_count": 4,
   "id": "d341e3c3-2d12-4b54-bd0e-ffb3eccc29a5",
   "metadata": {},
   "outputs": [
    {
     "data": {
      "text/plain": [
       "[6999, 7500, 11999, 27899, 14999, 9999]"
      ]
     },
     "execution_count": 4,
     "metadata": {},
     "output_type": "execute_result"
    }
   ],
   "source": [
    "# a. Create a 1d-array of mobile phones prices\n",
    "price = [6999, 7500, 11999, 27899, 14999, 9999]\n",
    "price"
   ]
  },
  {
   "cell_type": "code",
   "execution_count": 12,
   "id": "cc282a97-15fe-4070-878e-4b2d7a3829ac",
   "metadata": {},
   "outputs": [
    {
     "data": {
      "text/plain": [
       "dtype('float64')"
      ]
     },
     "execution_count": 12,
     "metadata": {},
     "output_type": "execute_result"
    }
   ],
   "source": [
    "# b. Convert this array to float type\n",
    "array = np.array(price)\n",
    "array = array.astype(float)\n",
    "array.dtype"
   ]
  },
  {
   "cell_type": "code",
   "execution_count": 15,
   "id": "55d94ec4-a60a-4ab9-b25b-3feabcd068dc",
   "metadata": {},
   "outputs": [],
   "source": [
    "array = np.array(price)\n",
    "array = array.astype(int)\n",
    "# c. Append a new mobile having price of 13999 Rs. to this array"
   ]
  },
  {
   "cell_type": "code",
   "execution_count": 16,
   "id": "a4fe1c90-8e08-417f-af2b-394172951643",
   "metadata": {},
   "outputs": [
    {
     "data": {
      "text/plain": [
       "array([ 6999,  7500, 11999, 27899, 14999,  9999, 13999])"
      ]
     },
     "execution_count": 16,
     "metadata": {},
     "output_type": "execute_result"
    }
   ],
   "source": [
    "array = np.append(array,13999)\n",
    "array"
   ]
  },
  {
   "cell_type": "code",
   "execution_count": 17,
   "id": "d3dbd874-84ec-43a4-8d4b-61f09d264d3c",
   "metadata": {},
   "outputs": [
    {
     "data": {
      "text/plain": [
       "array([13999,  9999, 14999, 27899, 11999,  7500,  6999])"
      ]
     },
     "execution_count": 17,
     "metadata": {},
     "output_type": "execute_result"
    }
   ],
   "source": [
    "# d. Reverse this array of mobile phones prices\n",
    "array = np.flip(array)\n",
    "array"
   ]
  },
  {
   "cell_type": "code",
   "execution_count": 21,
   "id": "5e511b18-b784-479f-bf77-190cb88a3608",
   "metadata": {},
   "outputs": [
    {
     "data": {
      "text/plain": [
       "array([19492.2076, 13922.6076, 20884.6076, 38846.5676, 16707.4076,\n",
       "       10443.    ,  9745.4076])"
      ]
     },
     "execution_count": 21,
     "metadata": {},
     "output_type": "execute_result"
    }
   ],
   "source": [
    "# e. Apply GST of 18% on mobile phones prices and update this array.\n",
    "gst = 0.18\n",
    "arr = array + (array * gst)\n",
    "arr"
   ]
  },
  {
   "cell_type": "code",
   "execution_count": 31,
   "id": "dc15bf03-a47d-42da-a980-a65a5e04b166",
   "metadata": {},
   "outputs": [
    {
     "data": {
      "text/plain": [
       "array([32920.82, 17698.82, 16518.82, 14158.82, 11798.82,  8850.  ,\n",
       "        8258.82])"
      ]
     },
     "execution_count": 31,
     "metadata": {},
     "output_type": "execute_result"
    }
   ],
   "source": [
    "# f. Sort the array in descending order of price\n",
    "arr1 = np.sort(array)[::-1]\n",
    "arr1"
   ]
  },
  {
   "cell_type": "code",
   "execution_count": 33,
   "id": "6df21223-5f5c-47b5-850b-130a4e885fd1",
   "metadata": {},
   "outputs": [
    {
     "data": {
      "text/plain": [
       "np.float64(13232.5)"
      ]
     },
     "execution_count": 33,
     "metadata": {},
     "output_type": "execute_result"
    }
   ],
   "source": [
    "# g. What is the average mobile phone price\n",
    "array = np.average(price)\n",
    "array"
   ]
  },
  {
   "cell_type": "code",
   "execution_count": null,
   "id": "3018c955-2a9b-433a-9dae-28abd649ad8e",
   "metadata": {},
   "outputs": [],
   "source": [
    "# h. What is the difference b/w maximum and minimum price\n"
   ]
  }
 ],
 "metadata": {
  "kernelspec": {
   "display_name": "Python 3 (ipykernel)",
   "language": "python",
   "name": "python3"
  },
  "language_info": {
   "codemirror_mode": {
    "name": "ipython",
    "version": 3
   },
   "file_extension": ".py",
   "mimetype": "text/x-python",
   "name": "python",
   "nbconvert_exporter": "python",
   "pygments_lexer": "ipython3",
   "version": "3.13.5"
  }
 },
 "nbformat": 4,
 "nbformat_minor": 5
}
