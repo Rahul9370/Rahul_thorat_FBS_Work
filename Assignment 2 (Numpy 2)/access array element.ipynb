{
 "cells": [
  {
   "cell_type": "code",
   "execution_count": 1,
   "id": "7d7e66a5-8b84-48ab-b3b2-47bf19dcd2f9",
   "metadata": {},
   "outputs": [],
   "source": [
    "import numpy as np"
   ]
  },
  {
   "cell_type": "code",
   "execution_count": 2,
   "id": "716c3357-5bc4-421b-bd56-51ee414407c1",
   "metadata": {},
   "outputs": [
    {
     "data": {
      "text/plain": [
       "array([[51, 75, 20],\n",
       "       [74, 41, 90],\n",
       "       [14, 16, 31]], dtype=int32)"
      ]
     },
     "execution_count": 2,
     "metadata": {},
     "output_type": "execute_result"
    }
   ],
   "source": [
    "# 5. Create a 3x3 array of integers and access:\n",
    "# a. The second element of the first row.\n",
    "# b. The third column of the 2nd row.\n",
    "# c. A subarray with the first two rows and last two columns.\n",
    "\n",
    "array = np.random.randint(1,100,(3,3))\n",
    "array"
   ]
  },
  {
   "cell_type": "code",
   "execution_count": 7,
   "id": "950a9d3e-91d9-43de-9a08-be576b493501",
   "metadata": {},
   "outputs": [
    {
     "data": {
      "text/plain": [
       "np.int32(75)"
      ]
     },
     "execution_count": 7,
     "metadata": {},
     "output_type": "execute_result"
    }
   ],
   "source": [
    "array[0,1]"
   ]
  },
  {
   "cell_type": "code",
   "execution_count": 8,
   "id": "862d57ea-9a6a-490f-ab10-d4730a1b8994",
   "metadata": {},
   "outputs": [
    {
     "data": {
      "text/plain": [
       "np.int32(90)"
      ]
     },
     "execution_count": 8,
     "metadata": {},
     "output_type": "execute_result"
    }
   ],
   "source": [
    "array[1,2]"
   ]
  },
  {
   "cell_type": "code",
   "execution_count": 12,
   "id": "37056306-9be0-470f-82c0-1bb70210259b",
   "metadata": {},
   "outputs": [
    {
     "data": {
      "text/plain": [
       "array([[74, 41, 90]], dtype=int32)"
      ]
     },
     "execution_count": 12,
     "metadata": {},
     "output_type": "execute_result"
    }
   ],
   "source": [
    "array[0:]"
   ]
  },
  {
   "cell_type": "code",
   "execution_count": null,
   "id": "808a832f-494b-4de7-b5f6-807f06550049",
   "metadata": {},
   "outputs": [],
   "source": []
  }
 ],
 "metadata": {
  "kernelspec": {
   "display_name": "Python 3 (ipykernel)",
   "language": "python",
   "name": "python3"
  },
  "language_info": {
   "codemirror_mode": {
    "name": "ipython",
    "version": 3
   },
   "file_extension": ".py",
   "mimetype": "text/x-python",
   "name": "python",
   "nbconvert_exporter": "python",
   "pygments_lexer": "ipython3",
   "version": "3.13.5"
  }
 },
 "nbformat": 4,
 "nbformat_minor": 5
}
