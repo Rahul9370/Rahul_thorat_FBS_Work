{
 "cells": [
  {
   "cell_type": "code",
   "execution_count": 2,
   "id": "61cf132b-ff34-40c3-a974-a9b7f28a8894",
   "metadata": {},
   "outputs": [],
   "source": [
    "import numpy as np"
   ]
  },
  {
   "cell_type": "code",
   "execution_count": 3,
   "id": "2bb82138-0fe3-42ac-8d59-260d50932f96",
   "metadata": {},
   "outputs": [
    {
     "data": {
      "text/plain": [
       "array([[1, 2],\n",
       "       [3, 4]])"
      ]
     },
     "execution_count": 3,
     "metadata": {},
     "output_type": "execute_result"
    }
   ],
   "source": [
    "# 10. Create a 2x2 matrix A and a 2x2 matrix B. Perform matrix multiplication using np.dot() or\n",
    "# the @ operator.\n",
    "A = np.arange(1,5).reshape(2,2)\n",
    "A"
   ]
  },
  {
   "cell_type": "code",
   "execution_count": 4,
   "id": "331d4646-dc09-4513-8125-8ad6255f18db",
   "metadata": {},
   "outputs": [
    {
     "data": {
      "text/plain": [
       "array([[5, 6],\n",
       "       [7, 8]])"
      ]
     },
     "execution_count": 4,
     "metadata": {},
     "output_type": "execute_result"
    }
   ],
   "source": [
    "B = np.arange(5,9).reshape(2,2)\n",
    "B"
   ]
  },
  {
   "cell_type": "code",
   "execution_count": 5,
   "id": "a09d29fb-b928-4e3a-9924-a72ea9b2242c",
   "metadata": {},
   "outputs": [
    {
     "data": {
      "text/plain": [
       "array([[19, 22],\n",
       "       [43, 50]])"
      ]
     },
     "execution_count": 5,
     "metadata": {},
     "output_type": "execute_result"
    }
   ],
   "source": [
    "mul = np.dot(A,B)\n",
    "mul"
   ]
  },
  {
   "cell_type": "code",
   "execution_count": 6,
   "id": "df4a616d-f5f5-4411-852a-c8505854f676",
   "metadata": {},
   "outputs": [
    {
     "data": {
      "text/plain": [
       "array([[19, 22],\n",
       "       [43, 50]])"
      ]
     },
     "execution_count": 6,
     "metadata": {},
     "output_type": "execute_result"
    }
   ],
   "source": [
    "A@B"
   ]
  },
  {
   "cell_type": "code",
   "execution_count": 9,
   "id": "225a10da-a4e5-4638-8c92-7d699cf76f4c",
   "metadata": {},
   "outputs": [
    {
     "name": "stdout",
     "output_type": "stream",
     "text": [
      "Matrix A:\n",
      " [[1 2]\n",
      " [3 4]]\n",
      "Transpose of A:\n",
      " [[1 3]\n",
      " [2 4]]\n",
      "\n",
      "Matrix B:\n",
      " [[5 6]\n",
      " [7 8]]\n",
      "Transpose of B:\n",
      " [[5 7]\n",
      " [6 8]]\n"
     ]
    }
   ],
   "source": [
    "# 11. Find the transpose of matrix A and matrix B. \n",
    "\n",
    "A_T = np.transpose(A)\n",
    "B_T = np.transpose(B)\n",
    "\n",
    "# Display results\n",
    "print(\"Matrix A:\\n\", A)\n",
    "print(\"Transpose of A:\\n\", A_T)\n",
    "\n",
    "print(\"\\nMatrix B:\\n\", B)\n",
    "print(\"Transpose of B:\\n\", B_T)\n",
    "\n"
   ]
  },
  {
   "cell_type": "code",
   "execution_count": null,
   "id": "bec3fb51-0b78-4bb8-8596-7e647bf8ba29",
   "metadata": {},
   "outputs": [],
   "source": []
  },
  {
   "cell_type": "code",
   "execution_count": null,
   "id": "86eb1647-fd64-4399-8959-022700577454",
   "metadata": {},
   "outputs": [],
   "source": []
  },
  {
   "cell_type": "code",
   "execution_count": null,
   "id": "f7be06ad-5999-4e40-99d8-f6be1fefa164",
   "metadata": {},
   "outputs": [],
   "source": []
  },
  {
   "cell_type": "code",
   "execution_count": null,
   "id": "f5950007-5083-4019-8881-2b9d2143ed35",
   "metadata": {},
   "outputs": [],
   "source": []
  },
  {
   "cell_type": "code",
   "execution_count": null,
   "id": "9792b26b-7ee5-457e-a027-5ce130dd066e",
   "metadata": {},
   "outputs": [],
   "source": []
  },
  {
   "cell_type": "code",
   "execution_count": null,
   "id": "11e7012c-e383-4582-808a-7444a9f182b5",
   "metadata": {},
   "outputs": [],
   "source": []
  },
  {
   "cell_type": "code",
   "execution_count": null,
   "id": "57ec7f2c-d5bd-4751-b80a-0fb41096cc7b",
   "metadata": {},
   "outputs": [],
   "source": []
  },
  {
   "cell_type": "code",
   "execution_count": null,
   "id": "49b70a88-57ac-4f97-8792-9259797982fa",
   "metadata": {},
   "outputs": [],
   "source": []
  }
 ],
 "metadata": {
  "kernelspec": {
   "display_name": "Python 3 (ipykernel)",
   "language": "python",
   "name": "python3"
  },
  "language_info": {
   "codemirror_mode": {
    "name": "ipython",
    "version": 3
   },
   "file_extension": ".py",
   "mimetype": "text/x-python",
   "name": "python",
   "nbconvert_exporter": "python",
   "pygments_lexer": "ipython3",
   "version": "3.13.5"
  }
 },
 "nbformat": 4,
 "nbformat_minor": 5
}
