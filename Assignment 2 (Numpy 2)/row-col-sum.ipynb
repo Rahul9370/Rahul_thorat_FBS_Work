{
 "cells": [
  {
   "cell_type": "code",
   "execution_count": 1,
   "id": "ae1b721d-f598-4be3-a32a-0111ee4571b3",
   "metadata": {},
   "outputs": [],
   "source": [
    "# 14. Find the row-wise and column-wise sums.\n",
    "import numpy as np"
   ]
  },
  {
   "cell_type": "code",
   "execution_count": 2,
   "id": "0a9a2db1-48b8-45f0-a8d8-5c431ee24936",
   "metadata": {},
   "outputs": [
    {
     "data": {
      "text/plain": [
       "array([[1, 2, 3],\n",
       "       [4, 5, 6],\n",
       "       [7, 8, 9]])"
      ]
     },
     "execution_count": 2,
     "metadata": {},
     "output_type": "execute_result"
    }
   ],
   "source": [
    "arr = np.arange(1,10).reshape(3,3)\n",
    "arr"
   ]
  },
  {
   "cell_type": "code",
   "execution_count": null,
   "id": "ce8d073e-e5e7-41f6-83ce-f5696f8b7488",
   "metadata": {},
   "outputs": [],
   "source": []
  }
 ],
 "metadata": {
  "kernelspec": {
   "display_name": "Python 3 (ipykernel)",
   "language": "python",
   "name": "python3"
  },
  "language_info": {
   "codemirror_mode": {
    "name": "ipython",
    "version": 3
   },
   "file_extension": ".py",
   "mimetype": "text/x-python",
   "name": "python",
   "nbconvert_exporter": "python",
   "pygments_lexer": "ipython3",
   "version": "3.13.5"
  }
 },
 "nbformat": 4,
 "nbformat_minor": 5
}
