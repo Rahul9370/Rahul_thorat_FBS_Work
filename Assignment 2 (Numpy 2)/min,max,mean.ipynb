{
 "cells": [
  {
   "cell_type": "code",
   "execution_count": 1,
   "id": "481c2b3d-63e9-4a13-9a3f-9ded6b5cb490",
   "metadata": {},
   "outputs": [],
   "source": [
    "import numpy as np\n",
    "# 13. Create a 4x4 array of random integers. Find the maximum, minimum, and mean of the\n",
    "# entire array."
   ]
  },
  {
   "cell_type": "code",
   "execution_count": 7,
   "id": "aab4fd52-8991-4e58-b559-31c3223af182",
   "metadata": {},
   "outputs": [
    {
     "data": {
      "text/plain": [
       "array([[63, 60, 15, 72],\n",
       "       [24, 60, 31, 61],\n",
       "       [72, 30, 20, 72],\n",
       "       [46, 55, 95, 30]], dtype=int32)"
      ]
     },
     "execution_count": 7,
     "metadata": {},
     "output_type": "execute_result"
    }
   ],
   "source": [
    "arr = np.random.randint(1, 101, size=(4, 4))\n",
    "arr"
   ]
  },
  {
   "cell_type": "code",
   "execution_count": 10,
   "id": "0e0aa434-c647-4393-9c22-dca892e22b2d",
   "metadata": {},
   "outputs": [
    {
     "data": {
      "text/plain": [
       "np.int32(95)"
      ]
     },
     "execution_count": 10,
     "metadata": {},
     "output_type": "execute_result"
    }
   ],
   "source": [
    "max = np.max(arr)\n",
    "max   # maximum"
   ]
  },
  {
   "cell_type": "code",
   "execution_count": 12,
   "id": "c9e52b4f-a4c9-45e6-8146-16826e5f9070",
   "metadata": {},
   "outputs": [
    {
     "data": {
      "text/plain": [
       "np.int32(15)"
      ]
     },
     "execution_count": 12,
     "metadata": {},
     "output_type": "execute_result"
    }
   ],
   "source": [
    "min = np.min(arr)\n",
    "min   # minimum"
   ]
  },
  {
   "cell_type": "code",
   "execution_count": 13,
   "id": "b09dbe3b-7bc1-45bb-b9d2-cb6fbf72e4c3",
   "metadata": {},
   "outputs": [
    {
     "data": {
      "text/plain": [
       "np.float64(50.375)"
      ]
     },
     "execution_count": 13,
     "metadata": {},
     "output_type": "execute_result"
    }
   ],
   "source": [
    "avg = np.mean(arr)\n",
    "avg   # average"
   ]
  },
  {
   "cell_type": "code",
   "execution_count": null,
   "id": "ab8f67b8-ba2a-4f6e-88e2-aef6facb3d99",
   "metadata": {},
   "outputs": [],
   "source": []
  }
 ],
 "metadata": {
  "kernelspec": {
   "display_name": "Python 3 (ipykernel)",
   "language": "python",
   "name": "python3"
  },
  "language_info": {
   "codemirror_mode": {
    "name": "ipython",
    "version": 3
   },
   "file_extension": ".py",
   "mimetype": "text/x-python",
   "name": "python",
   "nbconvert_exporter": "python",
   "pygments_lexer": "ipython3",
   "version": "3.13.5"
  }
 },
 "nbformat": 4,
 "nbformat_minor": 5
}
