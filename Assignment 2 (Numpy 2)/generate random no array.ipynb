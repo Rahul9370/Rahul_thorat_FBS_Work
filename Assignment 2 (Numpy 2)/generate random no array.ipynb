{
 "cells": [
  {
   "cell_type": "code",
   "execution_count": 7,
   "id": "d4a89cce-5dce-4f15-9c1a-642963320563",
   "metadata": {},
   "outputs": [
    {
     "data": {
      "text/plain": [
       "array([30, 21, 42, 18,  6, 43,  3, 37, 23, 25], dtype=int32)"
      ]
     },
     "execution_count": 7,
     "metadata": {},
     "output_type": "execute_result"
    }
   ],
   "source": [
    "#15. Generate an array of 10 random integers between 1 and 50.\n",
    "import numpy as np\n",
    "arr = np.random.randint(1,50,size=10)\n",
    "arr"
   ]
  },
  {
   "cell_type": "code",
   "execution_count": null,
   "id": "b29ba3ad-f736-43bc-888b-cdb43962d25b",
   "metadata": {},
   "outputs": [],
   "source": []
  }
 ],
 "metadata": {
  "kernelspec": {
   "display_name": "Python 3 (ipykernel)",
   "language": "python",
   "name": "python3"
  },
  "language_info": {
   "codemirror_mode": {
    "name": "ipython",
    "version": 3
   },
   "file_extension": ".py",
   "mimetype": "text/x-python",
   "name": "python",
   "nbconvert_exporter": "python",
   "pygments_lexer": "ipython3",
   "version": "3.13.5"
  }
 },
 "nbformat": 4,
 "nbformat_minor": 5
}
