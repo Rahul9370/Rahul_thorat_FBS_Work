{
 "cells": [
  {
   "cell_type": "code",
   "execution_count": 2,
   "id": "52b9278f-bcd7-4646-a100-96f95c344d54",
   "metadata": {},
   "outputs": [],
   "source": [
    "# 2. Create a NumPy array from a given Python list [10, 20, 30, 40, 50].\n",
    "import numpy as np"
   ]
  },
  {
   "cell_type": "code",
   "execution_count": null,
   "id": "aae0949c-80d3-42eb-8055-dcd2740c0258",
   "metadata": {},
   "outputs": [],
   "source": [
    "array = np.array([10,20,30,40,50])"
   ]
  }
 ],
 "metadata": {
  "kernelspec": {
   "display_name": "Python 3 (ipykernel)",
   "language": "python",
   "name": "python3"
  },
  "language_info": {
   "codemirror_mode": {
    "name": "ipython",
    "version": 3
   },
   "file_extension": ".py",
   "mimetype": "text/x-python",
   "name": "python",
   "nbconvert_exporter": "python",
   "pygments_lexer": "ipython3",
   "version": "3.13.5"
  }
 },
 "nbformat": 4,
 "nbformat_minor": 5
}
