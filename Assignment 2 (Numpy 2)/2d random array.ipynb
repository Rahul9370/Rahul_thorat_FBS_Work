{
 "cells": [
  {
   "cell_type": "code",
   "execution_count": 1,
   "id": "dacce9a3-ffc6-4572-8fc0-4c488ea27a67",
   "metadata": {},
   "outputs": [],
   "source": [
    "import numpy as np"
   ]
  },
  {
   "cell_type": "code",
   "execution_count": 6,
   "id": "9181790c-69a4-4ea4-a9d5-352263be486b",
   "metadata": {},
   "outputs": [
    {
     "data": {
      "text/plain": [
       "20"
      ]
     },
     "execution_count": 6,
     "metadata": {},
     "output_type": "execute_result"
    }
   ],
   "source": [
    "# 4. Given a 2D array, find its shape and size. Create a 5x4 array with random integers between\n",
    "# 1 and 100, and print the shape and size.\n",
    "\n",
    "array = np.random.randint(1,100,(5,4))\n",
    "array\n",
    "array.shape\n",
    "array.size"
   ]
  },
  {
   "cell_type": "code",
   "execution_count": null,
   "id": "b592306d-0438-4052-ade0-189c9f56578c",
   "metadata": {},
   "outputs": [],
   "source": []
  }
 ],
 "metadata": {
  "kernelspec": {
   "display_name": "Python 3 (ipykernel)",
   "language": "python",
   "name": "python3"
  },
  "language_info": {
   "codemirror_mode": {
    "name": "ipython",
    "version": 3
   },
   "file_extension": ".py",
   "mimetype": "text/x-python",
   "name": "python",
   "nbconvert_exporter": "python",
   "pygments_lexer": "ipython3",
   "version": "3.13.5"
  }
 },
 "nbformat": 4,
 "nbformat_minor": 5
}
